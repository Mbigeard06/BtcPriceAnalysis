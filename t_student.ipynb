{
 "cells": [
  {
   "cell_type": "code",
   "execution_count": 1,
   "id": "f172a19a-2256-484b-8b68-911f124eb29e",
   "metadata": {},
   "outputs": [],
   "source": [
    "import pandas as pd\n",
    "from scipy.stats import lognorm\n",
    "import numpy as np\n",
    "import matplotlib.pyplot as plt"
   ]
  },
  {
   "cell_type": "code",
   "execution_count": 2,
   "id": "5fdda63b-e925-4749-a752-29a4566eed34",
   "metadata": {},
   "outputs": [],
   "source": [
    "# STEP 1 : Import data\n",
    "df = pd.read_csv('./historicalData/processed_btc_data.csv')\n",
    "log_returns = df['log_returns'].dropna()"
   ]
  },
  {
   "cell_type": "code",
   "execution_count": 3,
   "id": "9cad0056-6f9f-40dd-8369-88c0b0d90197",
   "metadata": {},
   "outputs": [
    {
     "name": "stdout",
     "output_type": "stream",
     "text": [
      "Fitted parameters:\n",
      "Degrees of freedom (df): 2.11\n",
      "Location (mean): 0.00175\n",
      "Scale (std): 0.01956\n"
     ]
    }
   ],
   "source": [
    "# STEP 2 : Fit distribution to the data\n",
    "from scipy.stats import t\n",
    "\n",
    "params = t.fit(log_returns)\n",
    "df_t, loc_t, scale_t = params\n",
    "\n",
    "print(f\"Fitted parameters:\\nDegrees of freedom (df): {df_t:.2f}\\nLocation (mean): {loc_t:.5f}\\nScale (std): {scale_t:.5f}\")"
   ]
  },
  {
   "cell_type": "code",
   "execution_count": 5,
   "id": "31252abd-e7f1-4035-b538-3a6f61757dd8",
   "metadata": {},
   "outputs": [
    {
     "name": "stdout",
     "output_type": "stream",
     "text": [
      "K-S Test for t-distribution: D=0.0228, p-value=0.0215\n"
     ]
    }
   ],
   "source": [
    "# STEP 4 : KS-TEST t-distribution\n",
    "from scipy.stats import kstest, t\n",
    "\n",
    "# Reuse your fitted params\n",
    "D_stat, p_value = kstest(log_returns, 't', args=(df_t, loc_t, scale_t))\n",
    "print(f\"K-S Test for t-distribution: D={D_stat:.4f}, p-value={p_value:.4f}\")"
   ]
  },
  {
   "cell_type": "code",
   "execution_count": 19,
   "id": "157f1921-08e2-4678-80d7-873485d880c7",
   "metadata": {},
   "outputs": [
    {
     "name": "stdout",
     "output_type": "stream",
     "text": [
      "K-S Test for normal: D=0.1068, p-value=0.0000\n"
     ]
    }
   ],
   "source": [
    "# STEP 5 : KS-TEST normal\n",
    "from scipy.stats import norm\n",
    "\n",
    "# Fit normal distribution\n",
    "params_norm = norm.fit(log_returns)\n",
    "D_norm, p_norm = kstest(log_returns, 'norm', args=params_norm)\n",
    "print(f\"K-S Test for normal: D={D_norm:.4f}, p-value={p_norm:.4f}\")"
   ]
  },
  {
   "cell_type": "code",
   "execution_count": 7,
   "id": "1b771670-7a3d-4d87-ba95-e55d2a1abb35",
   "metadata": {},
   "outputs": [],
   "source": [
    "#Even though the t-distribution is not a perfect fit, it performs better than the normal, \n",
    "#which is commonly assumed but clearly inappropriate for BTC returns."
   ]
  },
  {
   "cell_type": "code",
   "execution_count": 20,
   "id": "8e668a27-566f-4635-bb8b-84bd5e98beae",
   "metadata": {},
   "outputs": [
    {
     "name": "stderr",
     "output_type": "stream",
     "text": [
      "100%|██████████████████████████████████████████████████████████████████| 1000/1000 [00:41<00:00, 23.99it/s]\n"
     ]
    }
   ],
   "source": [
    "# STEP 4: Bootstrap\n",
    "\n",
    "from tqdm import tqdm  \n",
    "\n",
    "n = len(log_returns)\n",
    "n_bootstraps = 1000\n",
    "D_boot = []\n",
    "\n",
    "for _ in tqdm(range(n_bootstraps)):\n",
    "    # Step 4.1: Generate synthetic sample from fitted t-distribution of size n\n",
    "    sample = t.rvs(df_t, loc=loc_t, scale=scale_t, size=n)\n",
    "\n",
    "    # Step 4.2: Fit t-distribution to synthetic sample\n",
    "    df_b, loc_b, scale_b = t.fit(sample)\n",
    "\n",
    "    # Step 4.3: Compute K-S statistic on the bootstrap sample\n",
    "    D_b, _ = kstest(sample, 't', args=(df_b, loc_b, scale_b))\n",
    "    D_boot.append(D_b)"
   ]
  },
  {
   "cell_type": "code",
   "execution_count": 17,
   "id": "7e5dd9ee-9e8f-423a-b342-c5edc2350bf6",
   "metadata": {},
   "outputs": [
    {
     "name": "stdout",
     "output_type": "stream",
     "text": [
      "\n",
      "Bootstrap p-value: 0.00500\n"
     ]
    }
   ],
   "source": [
    "# STEP 5: Compute the empirical p-value\n",
    "D_boot = np.array(D_boot)\n",
    "p_value_bootstrap = np.mean(D_boot >= D_stat)\n",
    "\n",
    "print(f\"\\nBootstrap p-value: {p_value_bootstrap:.5f}\")"
   ]
  },
  {
   "cell_type": "code",
   "execution_count": null,
   "id": "6d733677-151a-46bf-a9f3-ca888c6e2007",
   "metadata": {},
   "outputs": [],
   "source": []
  }
 ],
 "metadata": {
  "kernelspec": {
   "display_name": "Python 3 (ipykernel)",
   "language": "python",
   "name": "python3"
  },
  "language_info": {
   "codemirror_mode": {
    "name": "ipython",
    "version": 3
   },
   "file_extension": ".py",
   "mimetype": "text/x-python",
   "name": "python",
   "nbconvert_exporter": "python",
   "pygments_lexer": "ipython3",
   "version": "3.13.2"
  }
 },
 "nbformat": 4,
 "nbformat_minor": 5
}

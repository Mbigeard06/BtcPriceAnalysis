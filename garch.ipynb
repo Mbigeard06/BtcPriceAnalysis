{
 "cells": [
  {
   "cell_type": "code",
   "execution_count": null,
   "id": "7752a528-5cc1-4a8f-8a40-bca48e8ad23c",
   "metadata": {},
   "outputs": [],
   "source": []
  }
 ],
 "metadata": {
  "kernelspec": {
   "display_name": "",
   "name": ""
  },
  "language_info": {
   "name": ""
  }
 },
 "nbformat": 4,
 "nbformat_minor": 5
}
